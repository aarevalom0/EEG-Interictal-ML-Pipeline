{
  "cells": [
    {
      "cell_type": "markdown",
      "metadata": {
        "id": "jt1qDjazu5Qj"
      },
      "source": [
        "# Detection of interictal periods in EEG signals using machine learning"
      ]
    },
    {
      "cell_type": "markdown",
      "metadata": {},
      "source": [
        "## Train and test machine learning models to detect interictal periods in EEG signals with pycaret\n",
        "\n",
        "In this notebook, we will use the pycaret library to train and test machine learning models to detect interictal periods in EEG signals. The models will be trained on features extracted from the EEG signals using pycaret. This notebook show a high-level overview of the process and the result about the best model to detect interictal periods in EEG signals. The models will be evaluated using various metrics such as accuracy, precision, recall, and F1-score. The best model will be selected based on these metrics and will be used for further analysis."
      ]
    },
    {
      "cell_type": "markdown",
      "metadata": {
        "id": "_7TSyurIu6c7"
      },
      "source": [
        "## Prepare the environment"
      ]
    },
    {
      "cell_type": "markdown",
      "metadata": {
        "id": "ryppWdGnvMHA"
      },
      "source": [
        "### Install requirements"
      ]
    },
    {
      "cell_type": "code",
      "execution_count": null,
      "metadata": {
        "id": "cjSx0F53uoki"
      },
      "outputs": [],
      "source": [
        "!pip install -r ../requirements.txt"
      ]
    },
    {
      "cell_type": "markdown",
      "metadata": {
        "id": "lefJk6PvvKgy"
      },
      "source": [
        "### Global variables"
      ]
    },
    {
      "cell_type": "code",
      "execution_count": 1,
      "metadata": {
        "id": "Uz3wclaDvQBg"
      },
      "outputs": [],
      "source": [
        "PATH_DATASET = \"../datasets\"\n",
        "PATH_SCRIPTS = \"../scripts\"\n",
        "PATH_RESULTS = \"../results\""
      ]
    },
    {
      "cell_type": "markdown",
      "metadata": {
        "id": "jgBB98aqvVju"
      },
      "source": [
        "### Import libraries"
      ]
    },
    {
      "cell_type": "code",
      "execution_count": 3,
      "metadata": {
        "id": "qBmcAIzcvW70"
      },
      "outputs": [],
      "source": [
        "import pandas as pd\n",
        "from pycaret.classification import setup, compare_models,plot_model,get_config"
      ]
    },
    {
      "cell_type": "markdown",
      "metadata": {
        "id": "BL3GJbwmvuPy"
      },
      "source": [
        "## Loading final dataset"
      ]
    },
    {
      "cell_type": "code",
      "execution_count": 5,
      "metadata": {
        "id": "w8bZnV-2vxdL"
      },
      "outputs": [
        {
          "data": {
            "text/html": [
              "<div>\n",
              "<style scoped>\n",
              "    .dataframe tbody tr th:only-of-type {\n",
              "        vertical-align: middle;\n",
              "    }\n",
              "\n",
              "    .dataframe tbody tr th {\n",
              "        vertical-align: top;\n",
              "    }\n",
              "\n",
              "    .dataframe thead th {\n",
              "        text-align: right;\n",
              "    }\n",
              "</style>\n",
              "<table border=\"1\" class=\"dataframe\">\n",
              "  <thead>\n",
              "    <tr style=\"text-align: right;\">\n",
              "      <th></th>\n",
              "      <th>PC1</th>\n",
              "      <th>PC2</th>\n",
              "      <th>PC3</th>\n",
              "      <th>PC4</th>\n",
              "      <th>PC5</th>\n",
              "      <th>PC6</th>\n",
              "      <th>PC7</th>\n",
              "      <th>PC8</th>\n",
              "      <th>PC9</th>\n",
              "      <th>PC10</th>\n",
              "      <th>...</th>\n",
              "      <th>Energy</th>\n",
              "      <th>Std</th>\n",
              "      <th>ZeroCrossings</th>\n",
              "      <th>DWT_A_Energy</th>\n",
              "      <th>DWT_A_Std</th>\n",
              "      <th>DWT_L1_Energy</th>\n",
              "      <th>DWT_L1_Std</th>\n",
              "      <th>DWT_L2_Std</th>\n",
              "      <th>DWT_L3_Std</th>\n",
              "      <th>Label</th>\n",
              "    </tr>\n",
              "  </thead>\n",
              "  <tbody>\n",
              "    <tr>\n",
              "      <th>0</th>\n",
              "      <td>-0.910810</td>\n",
              "      <td>-0.432789</td>\n",
              "      <td>1.557870</td>\n",
              "      <td>1.238957</td>\n",
              "      <td>6.244845</td>\n",
              "      <td>5.608685</td>\n",
              "      <td>-0.011796</td>\n",
              "      <td>4.849851</td>\n",
              "      <td>6.243332</td>\n",
              "      <td>1.448628</td>\n",
              "      <td>...</td>\n",
              "      <td>6701313.0</td>\n",
              "      <td>28.625071</td>\n",
              "      <td>161</td>\n",
              "      <td>6.494952e+06</td>\n",
              "      <td>77.592879</td>\n",
              "      <td>1.851422e+05</td>\n",
              "      <td>18.901216</td>\n",
              "      <td>6.525675</td>\n",
              "      <td>2.479045</td>\n",
              "      <td>1</td>\n",
              "    </tr>\n",
              "    <tr>\n",
              "      <th>1</th>\n",
              "      <td>0.669241</td>\n",
              "      <td>-2.770761</td>\n",
              "      <td>2.628015</td>\n",
              "      <td>1.059362</td>\n",
              "      <td>5.188711</td>\n",
              "      <td>8.703730</td>\n",
              "      <td>-2.145227</td>\n",
              "      <td>8.147524</td>\n",
              "      <td>7.337089</td>\n",
              "      <td>0.293559</td>\n",
              "      <td>...</td>\n",
              "      <td>77128620.0</td>\n",
              "      <td>133.475722</td>\n",
              "      <td>72</td>\n",
              "      <td>7.466569e+07</td>\n",
              "      <td>368.810753</td>\n",
              "      <td>2.346342e+06</td>\n",
              "      <td>67.289651</td>\n",
              "      <td>18.696915</td>\n",
              "      <td>3.012844</td>\n",
              "      <td>1</td>\n",
              "    </tr>\n",
              "    <tr>\n",
              "      <th>2</th>\n",
              "      <td>1.796252</td>\n",
              "      <td>2.188240</td>\n",
              "      <td>-0.747876</td>\n",
              "      <td>-1.133820</td>\n",
              "      <td>-3.750040</td>\n",
              "      <td>-2.946909</td>\n",
              "      <td>-1.082376</td>\n",
              "      <td>-1.652842</td>\n",
              "      <td>-2.302908</td>\n",
              "      <td>-1.303553</td>\n",
              "      <td>...</td>\n",
              "      <td>23778006.0</td>\n",
              "      <td>71.958091</td>\n",
              "      <td>189</td>\n",
              "      <td>2.198122e+07</td>\n",
              "      <td>193.852127</td>\n",
              "      <td>1.590235e+06</td>\n",
              "      <td>55.385295</td>\n",
              "      <td>15.882118</td>\n",
              "      <td>4.972672</td>\n",
              "      <td>1</td>\n",
              "    </tr>\n",
              "    <tr>\n",
              "      <th>3</th>\n",
              "      <td>2.203993</td>\n",
              "      <td>2.113146</td>\n",
              "      <td>-0.424998</td>\n",
              "      <td>-1.584056</td>\n",
              "      <td>-5.539428</td>\n",
              "      <td>-5.599065</td>\n",
              "      <td>-0.269519</td>\n",
              "      <td>-3.230361</td>\n",
              "      <td>-5.071597</td>\n",
              "      <td>-1.470821</td>\n",
              "      <td>...</td>\n",
              "      <td>10945840.0</td>\n",
              "      <td>37.801572</td>\n",
              "      <td>136</td>\n",
              "      <td>1.071575e+07</td>\n",
              "      <td>103.497921</td>\n",
              "      <td>2.593951e+05</td>\n",
              "      <td>22.377317</td>\n",
              "      <td>6.419182</td>\n",
              "      <td>2.324330</td>\n",
              "      <td>1</td>\n",
              "    </tr>\n",
              "    <tr>\n",
              "      <th>4</th>\n",
              "      <td>0.535932</td>\n",
              "      <td>1.589788</td>\n",
              "      <td>-0.389449</td>\n",
              "      <td>-1.399532</td>\n",
              "      <td>-2.005868</td>\n",
              "      <td>-2.518123</td>\n",
              "      <td>0.547491</td>\n",
              "      <td>0.839877</td>\n",
              "      <td>-2.527554</td>\n",
              "      <td>-2.759672</td>\n",
              "      <td>...</td>\n",
              "      <td>30095867.0</td>\n",
              "      <td>84.285276</td>\n",
              "      <td>236</td>\n",
              "      <td>2.640545e+07</td>\n",
              "      <td>221.600514</td>\n",
              "      <td>2.929839e+06</td>\n",
              "      <td>75.145144</td>\n",
              "      <td>28.542184</td>\n",
              "      <td>6.026236</td>\n",
              "      <td>1</td>\n",
              "    </tr>\n",
              "    <tr>\n",
              "      <th>...</th>\n",
              "      <td>...</td>\n",
              "      <td>...</td>\n",
              "      <td>...</td>\n",
              "      <td>...</td>\n",
              "      <td>...</td>\n",
              "      <td>...</td>\n",
              "      <td>...</td>\n",
              "      <td>...</td>\n",
              "      <td>...</td>\n",
              "      <td>...</td>\n",
              "      <td>...</td>\n",
              "      <td>...</td>\n",
              "      <td>...</td>\n",
              "      <td>...</td>\n",
              "      <td>...</td>\n",
              "      <td>...</td>\n",
              "      <td>...</td>\n",
              "      <td>...</td>\n",
              "      <td>...</td>\n",
              "      <td>...</td>\n",
              "      <td>...</td>\n",
              "    </tr>\n",
              "    <tr>\n",
              "      <th>645</th>\n",
              "      <td>20.023325</td>\n",
              "      <td>16.020371</td>\n",
              "      <td>6.290595</td>\n",
              "      <td>4.731961</td>\n",
              "      <td>4.266542</td>\n",
              "      <td>6.531234</td>\n",
              "      <td>-11.489270</td>\n",
              "      <td>-5.686753</td>\n",
              "      <td>18.477839</td>\n",
              "      <td>-8.366114</td>\n",
              "      <td>...</td>\n",
              "      <td>5185146.0</td>\n",
              "      <td>126.518221</td>\n",
              "      <td>172</td>\n",
              "      <td>1.603541e+07</td>\n",
              "      <td>345.614337</td>\n",
              "      <td>1.217490e+06</td>\n",
              "      <td>95.318972</td>\n",
              "      <td>39.374376</td>\n",
              "      <td>6.534350</td>\n",
              "      <td>0</td>\n",
              "    </tr>\n",
              "    <tr>\n",
              "      <th>646</th>\n",
              "      <td>31.160014</td>\n",
              "      <td>12.274358</td>\n",
              "      <td>6.142229</td>\n",
              "      <td>4.872937</td>\n",
              "      <td>4.144671</td>\n",
              "      <td>0.125958</td>\n",
              "      <td>2.868405</td>\n",
              "      <td>7.321399</td>\n",
              "      <td>9.279057</td>\n",
              "      <td>-0.844818</td>\n",
              "      <td>...</td>\n",
              "      <td>5837538.0</td>\n",
              "      <td>115.398081</td>\n",
              "      <td>147</td>\n",
              "      <td>1.381258e+07</td>\n",
              "      <td>320.763931</td>\n",
              "      <td>2.126342e+05</td>\n",
              "      <td>39.811116</td>\n",
              "      <td>24.477559</td>\n",
              "      <td>12.198242</td>\n",
              "      <td>0</td>\n",
              "    </tr>\n",
              "    <tr>\n",
              "      <th>647</th>\n",
              "      <td>0.635756</td>\n",
              "      <td>4.026442</td>\n",
              "      <td>0.969354</td>\n",
              "      <td>-15.829528</td>\n",
              "      <td>-19.835517</td>\n",
              "      <td>7.931998</td>\n",
              "      <td>3.804053</td>\n",
              "      <td>1.651805</td>\n",
              "      <td>4.298282</td>\n",
              "      <td>-16.361731</td>\n",
              "      <td>...</td>\n",
              "      <td>5785262.0</td>\n",
              "      <td>124.482693</td>\n",
              "      <td>166</td>\n",
              "      <td>1.453175e+07</td>\n",
              "      <td>329.283893</td>\n",
              "      <td>1.303496e+06</td>\n",
              "      <td>98.613805</td>\n",
              "      <td>18.890919</td>\n",
              "      <td>3.344671</td>\n",
              "      <td>0</td>\n",
              "    </tr>\n",
              "    <tr>\n",
              "      <th>648</th>\n",
              "      <td>-24.988395</td>\n",
              "      <td>20.037430</td>\n",
              "      <td>11.400389</td>\n",
              "      <td>7.526375</td>\n",
              "      <td>-10.123523</td>\n",
              "      <td>7.438246</td>\n",
              "      <td>-1.055514</td>\n",
              "      <td>0.284052</td>\n",
              "      <td>-2.857728</td>\n",
              "      <td>5.791968</td>\n",
              "      <td>...</td>\n",
              "      <td>5935519.0</td>\n",
              "      <td>123.019851</td>\n",
              "      <td>161</td>\n",
              "      <td>1.562052e+07</td>\n",
              "      <td>341.202046</td>\n",
              "      <td>4.119846e+05</td>\n",
              "      <td>55.443075</td>\n",
              "      <td>15.198340</td>\n",
              "      <td>5.862354</td>\n",
              "      <td>0</td>\n",
              "    </tr>\n",
              "    <tr>\n",
              "      <th>649</th>\n",
              "      <td>-4.492434</td>\n",
              "      <td>-13.371566</td>\n",
              "      <td>-19.604730</td>\n",
              "      <td>-7.542073</td>\n",
              "      <td>-8.026729</td>\n",
              "      <td>0.673992</td>\n",
              "      <td>5.119408</td>\n",
              "      <td>6.140047</td>\n",
              "      <td>-3.462223</td>\n",
              "      <td>-0.686447</td>\n",
              "      <td>...</td>\n",
              "      <td>5190201.0</td>\n",
              "      <td>114.036203</td>\n",
              "      <td>146</td>\n",
              "      <td>1.273250e+07</td>\n",
              "      <td>307.690716</td>\n",
              "      <td>1.313020e+06</td>\n",
              "      <td>98.938759</td>\n",
              "      <td>22.451377</td>\n",
              "      <td>7.671663</td>\n",
              "      <td>0</td>\n",
              "    </tr>\n",
              "  </tbody>\n",
              "</table>\n",
              "<p>650 rows × 173 columns</p>\n",
              "</div>"
            ],
            "text/plain": [
              "           PC1        PC2        PC3        PC4        PC5       PC6  \\\n",
              "0    -0.910810  -0.432789   1.557870   1.238957   6.244845  5.608685   \n",
              "1     0.669241  -2.770761   2.628015   1.059362   5.188711  8.703730   \n",
              "2     1.796252   2.188240  -0.747876  -1.133820  -3.750040 -2.946909   \n",
              "3     2.203993   2.113146  -0.424998  -1.584056  -5.539428 -5.599065   \n",
              "4     0.535932   1.589788  -0.389449  -1.399532  -2.005868 -2.518123   \n",
              "..         ...        ...        ...        ...        ...       ...   \n",
              "645  20.023325  16.020371   6.290595   4.731961   4.266542  6.531234   \n",
              "646  31.160014  12.274358   6.142229   4.872937   4.144671  0.125958   \n",
              "647   0.635756   4.026442   0.969354 -15.829528 -19.835517  7.931998   \n",
              "648 -24.988395  20.037430  11.400389   7.526375 -10.123523  7.438246   \n",
              "649  -4.492434 -13.371566 -19.604730  -7.542073  -8.026729  0.673992   \n",
              "\n",
              "           PC7       PC8        PC9       PC10  ...      Energy         Std  \\\n",
              "0    -0.011796  4.849851   6.243332   1.448628  ...   6701313.0   28.625071   \n",
              "1    -2.145227  8.147524   7.337089   0.293559  ...  77128620.0  133.475722   \n",
              "2    -1.082376 -1.652842  -2.302908  -1.303553  ...  23778006.0   71.958091   \n",
              "3    -0.269519 -3.230361  -5.071597  -1.470821  ...  10945840.0   37.801572   \n",
              "4     0.547491  0.839877  -2.527554  -2.759672  ...  30095867.0   84.285276   \n",
              "..         ...       ...        ...        ...  ...         ...         ...   \n",
              "645 -11.489270 -5.686753  18.477839  -8.366114  ...   5185146.0  126.518221   \n",
              "646   2.868405  7.321399   9.279057  -0.844818  ...   5837538.0  115.398081   \n",
              "647   3.804053  1.651805   4.298282 -16.361731  ...   5785262.0  124.482693   \n",
              "648  -1.055514  0.284052  -2.857728   5.791968  ...   5935519.0  123.019851   \n",
              "649   5.119408  6.140047  -3.462223  -0.686447  ...   5190201.0  114.036203   \n",
              "\n",
              "     ZeroCrossings  DWT_A_Energy   DWT_A_Std  DWT_L1_Energy  DWT_L1_Std  \\\n",
              "0              161  6.494952e+06   77.592879   1.851422e+05   18.901216   \n",
              "1               72  7.466569e+07  368.810753   2.346342e+06   67.289651   \n",
              "2              189  2.198122e+07  193.852127   1.590235e+06   55.385295   \n",
              "3              136  1.071575e+07  103.497921   2.593951e+05   22.377317   \n",
              "4              236  2.640545e+07  221.600514   2.929839e+06   75.145144   \n",
              "..             ...           ...         ...            ...         ...   \n",
              "645            172  1.603541e+07  345.614337   1.217490e+06   95.318972   \n",
              "646            147  1.381258e+07  320.763931   2.126342e+05   39.811116   \n",
              "647            166  1.453175e+07  329.283893   1.303496e+06   98.613805   \n",
              "648            161  1.562052e+07  341.202046   4.119846e+05   55.443075   \n",
              "649            146  1.273250e+07  307.690716   1.313020e+06   98.938759   \n",
              "\n",
              "     DWT_L2_Std  DWT_L3_Std  Label  \n",
              "0      6.525675    2.479045      1  \n",
              "1     18.696915    3.012844      1  \n",
              "2     15.882118    4.972672      1  \n",
              "3      6.419182    2.324330      1  \n",
              "4     28.542184    6.026236      1  \n",
              "..          ...         ...    ...  \n",
              "645   39.374376    6.534350      0  \n",
              "646   24.477559   12.198242      0  \n",
              "647   18.890919    3.344671      0  \n",
              "648   15.198340    5.862354      0  \n",
              "649   22.451377    7.671663      0  \n",
              "\n",
              "[650 rows x 173 columns]"
            ]
          },
          "execution_count": 5,
          "metadata": {},
          "output_type": "execute_result"
        }
      ],
      "source": [
        "Path_final_dataset = PATH_RESULTS+\"/features/EEG_features_AllFeatures.csv\"\n",
        "df_final = pd.read_csv(Path_final_dataset,sep=';')\n",
        "df_final"
      ]
    },
    {
      "cell_type": "markdown",
      "metadata": {
        "id": "Dqyi9aRkwB5l"
      },
      "source": [
        "## Training Models\n",
        "\n",
        "We use setup of pycaret to prepare the data for training. This function will automatically preprocess the data, handle missing values, and encode categorical variables. We will also specify the target variable, which is the label indicating whether the signal is interictal or not."
      ]
    },
    {
      "cell_type": "code",
      "execution_count": 17,
      "metadata": {
        "colab": {
          "base_uri": "https://localhost:8080/",
          "height": 645
        },
        "id": "dpHpqs2swFW3",
        "outputId": "4ef98001-1353-4e5e-c9d4-f23b22101b79"
      },
      "outputs": [
        {
          "data": {
            "text/html": [
              "<style type=\"text/css\">\n",
              "#T_c2fdf_row8_col1 {\n",
              "  background-color: lightgreen;\n",
              "}\n",
              "</style>\n",
              "<table id=\"T_c2fdf\" class=\"dataframe\">\n",
              "  <thead>\n",
              "    <tr>\n",
              "      <th class=\"blank level0\" >&nbsp;</th>\n",
              "      <th id=\"T_c2fdf_level0_col0\" class=\"col_heading level0 col0\" >Description</th>\n",
              "      <th id=\"T_c2fdf_level0_col1\" class=\"col_heading level0 col1\" >Value</th>\n",
              "    </tr>\n",
              "  </thead>\n",
              "  <tbody>\n",
              "    <tr>\n",
              "      <th id=\"T_c2fdf_level0_row0\" class=\"row_heading level0 row0\" >0</th>\n",
              "      <td id=\"T_c2fdf_row0_col0\" class=\"data row0 col0\" >Session id</td>\n",
              "      <td id=\"T_c2fdf_row0_col1\" class=\"data row0 col1\" >123</td>\n",
              "    </tr>\n",
              "    <tr>\n",
              "      <th id=\"T_c2fdf_level0_row1\" class=\"row_heading level0 row1\" >1</th>\n",
              "      <td id=\"T_c2fdf_row1_col0\" class=\"data row1 col0\" >Target</td>\n",
              "      <td id=\"T_c2fdf_row1_col1\" class=\"data row1 col1\" >Label</td>\n",
              "    </tr>\n",
              "    <tr>\n",
              "      <th id=\"T_c2fdf_level0_row2\" class=\"row_heading level0 row2\" >2</th>\n",
              "      <td id=\"T_c2fdf_row2_col0\" class=\"data row2 col0\" >Target type</td>\n",
              "      <td id=\"T_c2fdf_row2_col1\" class=\"data row2 col1\" >Binary</td>\n",
              "    </tr>\n",
              "    <tr>\n",
              "      <th id=\"T_c2fdf_level0_row3\" class=\"row_heading level0 row3\" >3</th>\n",
              "      <td id=\"T_c2fdf_row3_col0\" class=\"data row3 col0\" >Original data shape</td>\n",
              "      <td id=\"T_c2fdf_row3_col1\" class=\"data row3 col1\" >(650, 173)</td>\n",
              "    </tr>\n",
              "    <tr>\n",
              "      <th id=\"T_c2fdf_level0_row4\" class=\"row_heading level0 row4\" >4</th>\n",
              "      <td id=\"T_c2fdf_row4_col0\" class=\"data row4 col0\" >Transformed data shape</td>\n",
              "      <td id=\"T_c2fdf_row4_col1\" class=\"data row4 col1\" >(650, 173)</td>\n",
              "    </tr>\n",
              "    <tr>\n",
              "      <th id=\"T_c2fdf_level0_row5\" class=\"row_heading level0 row5\" >5</th>\n",
              "      <td id=\"T_c2fdf_row5_col0\" class=\"data row5 col0\" >Transformed train set shape</td>\n",
              "      <td id=\"T_c2fdf_row5_col1\" class=\"data row5 col1\" >(454, 173)</td>\n",
              "    </tr>\n",
              "    <tr>\n",
              "      <th id=\"T_c2fdf_level0_row6\" class=\"row_heading level0 row6\" >6</th>\n",
              "      <td id=\"T_c2fdf_row6_col0\" class=\"data row6 col0\" >Transformed test set shape</td>\n",
              "      <td id=\"T_c2fdf_row6_col1\" class=\"data row6 col1\" >(196, 173)</td>\n",
              "    </tr>\n",
              "    <tr>\n",
              "      <th id=\"T_c2fdf_level0_row7\" class=\"row_heading level0 row7\" >7</th>\n",
              "      <td id=\"T_c2fdf_row7_col0\" class=\"data row7 col0\" >Numeric features</td>\n",
              "      <td id=\"T_c2fdf_row7_col1\" class=\"data row7 col1\" >172</td>\n",
              "    </tr>\n",
              "    <tr>\n",
              "      <th id=\"T_c2fdf_level0_row8\" class=\"row_heading level0 row8\" >8</th>\n",
              "      <td id=\"T_c2fdf_row8_col0\" class=\"data row8 col0\" >Preprocess</td>\n",
              "      <td id=\"T_c2fdf_row8_col1\" class=\"data row8 col1\" >True</td>\n",
              "    </tr>\n",
              "    <tr>\n",
              "      <th id=\"T_c2fdf_level0_row9\" class=\"row_heading level0 row9\" >9</th>\n",
              "      <td id=\"T_c2fdf_row9_col0\" class=\"data row9 col0\" >Imputation type</td>\n",
              "      <td id=\"T_c2fdf_row9_col1\" class=\"data row9 col1\" >simple</td>\n",
              "    </tr>\n",
              "    <tr>\n",
              "      <th id=\"T_c2fdf_level0_row10\" class=\"row_heading level0 row10\" >10</th>\n",
              "      <td id=\"T_c2fdf_row10_col0\" class=\"data row10 col0\" >Numeric imputation</td>\n",
              "      <td id=\"T_c2fdf_row10_col1\" class=\"data row10 col1\" >mean</td>\n",
              "    </tr>\n",
              "    <tr>\n",
              "      <th id=\"T_c2fdf_level0_row11\" class=\"row_heading level0 row11\" >11</th>\n",
              "      <td id=\"T_c2fdf_row11_col0\" class=\"data row11 col0\" >Categorical imputation</td>\n",
              "      <td id=\"T_c2fdf_row11_col1\" class=\"data row11 col1\" >mode</td>\n",
              "    </tr>\n",
              "    <tr>\n",
              "      <th id=\"T_c2fdf_level0_row12\" class=\"row_heading level0 row12\" >12</th>\n",
              "      <td id=\"T_c2fdf_row12_col0\" class=\"data row12 col0\" >Fold Generator</td>\n",
              "      <td id=\"T_c2fdf_row12_col1\" class=\"data row12 col1\" >StratifiedKFold</td>\n",
              "    </tr>\n",
              "    <tr>\n",
              "      <th id=\"T_c2fdf_level0_row13\" class=\"row_heading level0 row13\" >13</th>\n",
              "      <td id=\"T_c2fdf_row13_col0\" class=\"data row13 col0\" >Fold Number</td>\n",
              "      <td id=\"T_c2fdf_row13_col1\" class=\"data row13 col1\" >10</td>\n",
              "    </tr>\n",
              "    <tr>\n",
              "      <th id=\"T_c2fdf_level0_row14\" class=\"row_heading level0 row14\" >14</th>\n",
              "      <td id=\"T_c2fdf_row14_col0\" class=\"data row14 col0\" >CPU Jobs</td>\n",
              "      <td id=\"T_c2fdf_row14_col1\" class=\"data row14 col1\" >-1</td>\n",
              "    </tr>\n",
              "    <tr>\n",
              "      <th id=\"T_c2fdf_level0_row15\" class=\"row_heading level0 row15\" >15</th>\n",
              "      <td id=\"T_c2fdf_row15_col0\" class=\"data row15 col0\" >Use GPU</td>\n",
              "      <td id=\"T_c2fdf_row15_col1\" class=\"data row15 col1\" >False</td>\n",
              "    </tr>\n",
              "    <tr>\n",
              "      <th id=\"T_c2fdf_level0_row16\" class=\"row_heading level0 row16\" >16</th>\n",
              "      <td id=\"T_c2fdf_row16_col0\" class=\"data row16 col0\" >Log Experiment</td>\n",
              "      <td id=\"T_c2fdf_row16_col1\" class=\"data row16 col1\" >False</td>\n",
              "    </tr>\n",
              "    <tr>\n",
              "      <th id=\"T_c2fdf_level0_row17\" class=\"row_heading level0 row17\" >17</th>\n",
              "      <td id=\"T_c2fdf_row17_col0\" class=\"data row17 col0\" >Experiment Name</td>\n",
              "      <td id=\"T_c2fdf_row17_col1\" class=\"data row17 col1\" >clf-default-name</td>\n",
              "    </tr>\n",
              "    <tr>\n",
              "      <th id=\"T_c2fdf_level0_row18\" class=\"row_heading level0 row18\" >18</th>\n",
              "      <td id=\"T_c2fdf_row18_col0\" class=\"data row18 col0\" >USI</td>\n",
              "      <td id=\"T_c2fdf_row18_col1\" class=\"data row18 col1\" >e951</td>\n",
              "    </tr>\n",
              "  </tbody>\n",
              "</table>\n"
            ],
            "text/plain": [
              "<pandas.io.formats.style.Styler at 0x78281ae4aed0>"
            ]
          },
          "metadata": {},
          "output_type": "display_data"
        }
      ],
      "source": [
        "\n",
        "Target_data='Label'\n",
        "clf1 = setup(data=df_final, target=Target_data, session_id=123, verbose=True)"
      ]
    },
    {
      "cell_type": "markdown",
      "metadata": {},
      "source": [
        "## Compare models\n",
        "\n",
        "We use the compare_models function to train and evaluate multiple machine learning models on the dataset. This function will automatically select the best model based on the specified evaluation metric, which is accuracy in this case. The function will also return a dataframe with the results of all the models, including their accuracy, precision, recall, and F1-score."
      ]
    },
    {
      "cell_type": "code",
      "execution_count": 18,
      "metadata": {
        "colab": {
          "base_uri": "https://localhost:8080/",
          "height": 520,
          "referenced_widgets": [
            "937148ce05a0494e91985ca6e1f30056",
            "f6a54722c91b456fb2c48f49ad9efbc6",
            "b01974192e2f4700935c06aa236dfb21",
            "bb408eb29e97464a992595785c2f9227",
            "dca507e8e70549bfa2f98975bc404697",
            "0ad7d21bc1c440228967513221a59eaa",
            "371665bb5cb04caeb15cdc0ab8f8a6e4",
            "caade62aea7843ea84c8e5b90be70964",
            "ce1f455717d9409587aac3c98e3282b5",
            "6f896a30f3c74f55a6af15eee4d20770",
            "60c70bfacf8b4da7b839d778aaef5a0e"
          ]
        },
        "id": "CQsHE_8_1-te",
        "outputId": "b701ee37-58ec-4fa9-84e7-1a9b0417a761"
      },
      "outputs": [
        {
          "data": {
            "text/html": [],
            "text/plain": [
              "<IPython.core.display.HTML object>"
            ]
          },
          "metadata": {},
          "output_type": "display_data"
        },
        {
          "data": {
            "text/html": [
              "<style type=\"text/css\">\n",
              "#T_84e08 th {\n",
              "  text-align: left;\n",
              "}\n",
              "#T_84e08_row0_col0, #T_84e08_row0_col2, #T_84e08_row0_col3, #T_84e08_row0_col4, #T_84e08_row1_col0, #T_84e08_row1_col1, #T_84e08_row1_col3, #T_84e08_row1_col5, #T_84e08_row1_col6, #T_84e08_row1_col7, #T_84e08_row2_col0, #T_84e08_row2_col1, #T_84e08_row2_col2, #T_84e08_row2_col3, #T_84e08_row2_col4, #T_84e08_row2_col5, #T_84e08_row2_col6, #T_84e08_row2_col7, #T_84e08_row3_col0, #T_84e08_row3_col1, #T_84e08_row3_col2, #T_84e08_row3_col3, #T_84e08_row3_col4, #T_84e08_row3_col5, #T_84e08_row3_col6, #T_84e08_row3_col7, #T_84e08_row4_col0, #T_84e08_row4_col1, #T_84e08_row4_col2, #T_84e08_row4_col3, #T_84e08_row4_col4, #T_84e08_row4_col5, #T_84e08_row4_col6, #T_84e08_row4_col7, #T_84e08_row5_col0, #T_84e08_row5_col1, #T_84e08_row5_col2, #T_84e08_row5_col3, #T_84e08_row5_col4, #T_84e08_row5_col5, #T_84e08_row5_col6, #T_84e08_row5_col7, #T_84e08_row6_col0, #T_84e08_row6_col1, #T_84e08_row6_col2, #T_84e08_row6_col3, #T_84e08_row6_col4, #T_84e08_row6_col5, #T_84e08_row6_col6, #T_84e08_row6_col7, #T_84e08_row7_col0, #T_84e08_row7_col1, #T_84e08_row7_col2, #T_84e08_row7_col3, #T_84e08_row7_col4, #T_84e08_row7_col5, #T_84e08_row7_col6, #T_84e08_row7_col7, #T_84e08_row8_col0, #T_84e08_row8_col1, #T_84e08_row8_col2, #T_84e08_row8_col3, #T_84e08_row8_col4, #T_84e08_row8_col5, #T_84e08_row8_col6, #T_84e08_row8_col7, #T_84e08_row9_col0, #T_84e08_row9_col1, #T_84e08_row9_col2, #T_84e08_row9_col3, #T_84e08_row9_col4, #T_84e08_row9_col5, #T_84e08_row9_col6, #T_84e08_row9_col7, #T_84e08_row10_col0, #T_84e08_row10_col1, #T_84e08_row10_col2, #T_84e08_row10_col3, #T_84e08_row10_col4, #T_84e08_row10_col5, #T_84e08_row10_col6, #T_84e08_row10_col7, #T_84e08_row11_col0, #T_84e08_row11_col1, #T_84e08_row11_col2, #T_84e08_row11_col3, #T_84e08_row11_col4, #T_84e08_row11_col5, #T_84e08_row11_col6, #T_84e08_row11_col7, #T_84e08_row12_col0, #T_84e08_row12_col1, #T_84e08_row12_col2, #T_84e08_row12_col3, #T_84e08_row12_col4, #T_84e08_row12_col5, #T_84e08_row12_col6, #T_84e08_row12_col7, #T_84e08_row13_col0, #T_84e08_row13_col1, #T_84e08_row13_col2, #T_84e08_row13_col3, #T_84e08_row13_col4, #T_84e08_row13_col5, #T_84e08_row13_col6, #T_84e08_row13_col7, #T_84e08_row14_col0, #T_84e08_row14_col1, #T_84e08_row14_col2, #T_84e08_row14_col4, #T_84e08_row14_col5, #T_84e08_row14_col6, #T_84e08_row14_col7 {\n",
              "  text-align: left;\n",
              "}\n",
              "#T_84e08_row0_col1, #T_84e08_row0_col5, #T_84e08_row0_col6, #T_84e08_row0_col7, #T_84e08_row1_col2, #T_84e08_row1_col4, #T_84e08_row14_col3 {\n",
              "  text-align: left;\n",
              "  background-color: yellow;\n",
              "}\n",
              "#T_84e08_row0_col8, #T_84e08_row1_col8, #T_84e08_row2_col8, #T_84e08_row3_col8, #T_84e08_row4_col8, #T_84e08_row5_col8, #T_84e08_row6_col8, #T_84e08_row7_col8, #T_84e08_row8_col8, #T_84e08_row9_col8, #T_84e08_row10_col8, #T_84e08_row11_col8, #T_84e08_row13_col8, #T_84e08_row14_col8 {\n",
              "  text-align: left;\n",
              "  background-color: lightgrey;\n",
              "}\n",
              "#T_84e08_row12_col8 {\n",
              "  text-align: left;\n",
              "  background-color: yellow;\n",
              "  background-color: lightgrey;\n",
              "}\n",
              "</style>\n",
              "<table id=\"T_84e08\" class=\"dataframe\">\n",
              "  <thead>\n",
              "    <tr>\n",
              "      <th class=\"blank level0\" >&nbsp;</th>\n",
              "      <th id=\"T_84e08_level0_col0\" class=\"col_heading level0 col0\" >Model</th>\n",
              "      <th id=\"T_84e08_level0_col1\" class=\"col_heading level0 col1\" >Accuracy</th>\n",
              "      <th id=\"T_84e08_level0_col2\" class=\"col_heading level0 col2\" >AUC</th>\n",
              "      <th id=\"T_84e08_level0_col3\" class=\"col_heading level0 col3\" >Recall</th>\n",
              "      <th id=\"T_84e08_level0_col4\" class=\"col_heading level0 col4\" >Prec.</th>\n",
              "      <th id=\"T_84e08_level0_col5\" class=\"col_heading level0 col5\" >F1</th>\n",
              "      <th id=\"T_84e08_level0_col6\" class=\"col_heading level0 col6\" >Kappa</th>\n",
              "      <th id=\"T_84e08_level0_col7\" class=\"col_heading level0 col7\" >MCC</th>\n",
              "      <th id=\"T_84e08_level0_col8\" class=\"col_heading level0 col8\" >TT (Sec)</th>\n",
              "    </tr>\n",
              "  </thead>\n",
              "  <tbody>\n",
              "    <tr>\n",
              "      <th id=\"T_84e08_level0_row0\" class=\"row_heading level0 row0\" >et</th>\n",
              "      <td id=\"T_84e08_row0_col0\" class=\"data row0 col0\" >Extra Trees Classifier</td>\n",
              "      <td id=\"T_84e08_row0_col1\" class=\"data row0 col1\" >0.9734</td>\n",
              "      <td id=\"T_84e08_row0_col2\" class=\"data row0 col2\" >0.9935</td>\n",
              "      <td id=\"T_84e08_row0_col3\" class=\"data row0 col3\" >0.9650</td>\n",
              "      <td id=\"T_84e08_row0_col4\" class=\"data row0 col4\" >0.9662</td>\n",
              "      <td id=\"T_84e08_row0_col5\" class=\"data row0 col5\" >0.9650</td>\n",
              "      <td id=\"T_84e08_row0_col6\" class=\"data row0 col6\" >0.9435</td>\n",
              "      <td id=\"T_84e08_row0_col7\" class=\"data row0 col7\" >0.9443</td>\n",
              "      <td id=\"T_84e08_row0_col8\" class=\"data row0 col8\" >0.1880</td>\n",
              "    </tr>\n",
              "    <tr>\n",
              "      <th id=\"T_84e08_level0_row1\" class=\"row_heading level0 row1\" >rf</th>\n",
              "      <td id=\"T_84e08_row1_col0\" class=\"data row1 col0\" >Random Forest Classifier</td>\n",
              "      <td id=\"T_84e08_row1_col1\" class=\"data row1 col1\" >0.9713</td>\n",
              "      <td id=\"T_84e08_row1_col2\" class=\"data row1 col2\" >0.9938</td>\n",
              "      <td id=\"T_84e08_row1_col3\" class=\"data row1 col3\" >0.9595</td>\n",
              "      <td id=\"T_84e08_row1_col4\" class=\"data row1 col4\" >0.9666</td>\n",
              "      <td id=\"T_84e08_row1_col5\" class=\"data row1 col5\" >0.9623</td>\n",
              "      <td id=\"T_84e08_row1_col6\" class=\"data row1 col6\" >0.9391</td>\n",
              "      <td id=\"T_84e08_row1_col7\" class=\"data row1 col7\" >0.9400</td>\n",
              "      <td id=\"T_84e08_row1_col8\" class=\"data row1 col8\" >0.3100</td>\n",
              "    </tr>\n",
              "    <tr>\n",
              "      <th id=\"T_84e08_level0_row2\" class=\"row_heading level0 row2\" >lightgbm</th>\n",
              "      <td id=\"T_84e08_row2_col0\" class=\"data row2 col0\" >Light Gradient Boosting Machine</td>\n",
              "      <td id=\"T_84e08_row2_col1\" class=\"data row2 col1\" >0.9625</td>\n",
              "      <td id=\"T_84e08_row2_col2\" class=\"data row2 col2\" >0.9900</td>\n",
              "      <td id=\"T_84e08_row2_col3\" class=\"data row2 col3\" >0.9425</td>\n",
              "      <td id=\"T_84e08_row2_col4\" class=\"data row2 col4\" >0.9607</td>\n",
              "      <td id=\"T_84e08_row2_col5\" class=\"data row2 col5\" >0.9501</td>\n",
              "      <td id=\"T_84e08_row2_col6\" class=\"data row2 col6\" >0.9201</td>\n",
              "      <td id=\"T_84e08_row2_col7\" class=\"data row2 col7\" >0.9219</td>\n",
              "      <td id=\"T_84e08_row2_col8\" class=\"data row2 col8\" >1.5940</td>\n",
              "    </tr>\n",
              "    <tr>\n",
              "      <th id=\"T_84e08_level0_row3\" class=\"row_heading level0 row3\" >gbc</th>\n",
              "      <td id=\"T_84e08_row3_col0\" class=\"data row3 col0\" >Gradient Boosting Classifier</td>\n",
              "      <td id=\"T_84e08_row3_col1\" class=\"data row3 col1\" >0.9602</td>\n",
              "      <td id=\"T_84e08_row3_col2\" class=\"data row3 col2\" >0.9889</td>\n",
              "      <td id=\"T_84e08_row3_col3\" class=\"data row3 col3\" >0.9425</td>\n",
              "      <td id=\"T_84e08_row3_col4\" class=\"data row3 col4\" >0.9548</td>\n",
              "      <td id=\"T_84e08_row3_col5\" class=\"data row3 col5\" >0.9471</td>\n",
              "      <td id=\"T_84e08_row3_col6\" class=\"data row3 col6\" >0.9153</td>\n",
              "      <td id=\"T_84e08_row3_col7\" class=\"data row3 col7\" >0.9172</td>\n",
              "      <td id=\"T_84e08_row3_col8\" class=\"data row3 col8\" >1.8460</td>\n",
              "    </tr>\n",
              "    <tr>\n",
              "      <th id=\"T_84e08_level0_row4\" class=\"row_heading level0 row4\" >xgboost</th>\n",
              "      <td id=\"T_84e08_row4_col0\" class=\"data row4 col0\" >Extreme Gradient Boosting</td>\n",
              "      <td id=\"T_84e08_row4_col1\" class=\"data row4 col1\" >0.9582</td>\n",
              "      <td id=\"T_84e08_row4_col2\" class=\"data row4 col2\" >0.9895</td>\n",
              "      <td id=\"T_84e08_row4_col3\" class=\"data row4 col3\" >0.9373</td>\n",
              "      <td id=\"T_84e08_row4_col4\" class=\"data row4 col4\" >0.9540</td>\n",
              "      <td id=\"T_84e08_row4_col5\" class=\"data row4 col5\" >0.9443</td>\n",
              "      <td id=\"T_84e08_row4_col6\" class=\"data row4 col6\" >0.9109</td>\n",
              "      <td id=\"T_84e08_row4_col7\" class=\"data row4 col7\" >0.9125</td>\n",
              "      <td id=\"T_84e08_row4_col8\" class=\"data row4 col8\" >0.4560</td>\n",
              "    </tr>\n",
              "    <tr>\n",
              "      <th id=\"T_84e08_level0_row5\" class=\"row_heading level0 row5\" >ada</th>\n",
              "      <td id=\"T_84e08_row5_col0\" class=\"data row5 col0\" >Ada Boost Classifier</td>\n",
              "      <td id=\"T_84e08_row5_col1\" class=\"data row5 col1\" >0.9339</td>\n",
              "      <td id=\"T_84e08_row5_col2\" class=\"data row5 col2\" >0.9794</td>\n",
              "      <td id=\"T_84e08_row5_col3\" class=\"data row5 col3\" >0.9141</td>\n",
              "      <td id=\"T_84e08_row5_col4\" class=\"data row5 col4\" >0.9166</td>\n",
              "      <td id=\"T_84e08_row5_col5\" class=\"data row5 col5\" >0.9140</td>\n",
              "      <td id=\"T_84e08_row5_col6\" class=\"data row5 col6\" >0.8604</td>\n",
              "      <td id=\"T_84e08_row5_col7\" class=\"data row5 col7\" >0.8621</td>\n",
              "      <td id=\"T_84e08_row5_col8\" class=\"data row5 col8\" >0.4500</td>\n",
              "    </tr>\n",
              "    <tr>\n",
              "      <th id=\"T_84e08_level0_row6\" class=\"row_heading level0 row6\" >dt</th>\n",
              "      <td id=\"T_84e08_row6_col0\" class=\"data row6 col0\" >Decision Tree Classifier</td>\n",
              "      <td id=\"T_84e08_row6_col1\" class=\"data row6 col1\" >0.9271</td>\n",
              "      <td id=\"T_84e08_row6_col2\" class=\"data row6 col2\" >0.9275</td>\n",
              "      <td id=\"T_84e08_row6_col3\" class=\"data row6 col3\" >0.9301</td>\n",
              "      <td id=\"T_84e08_row6_col4\" class=\"data row6 col4\" >0.8910</td>\n",
              "      <td id=\"T_84e08_row6_col5\" class=\"data row6 col5\" >0.9072</td>\n",
              "      <td id=\"T_84e08_row6_col6\" class=\"data row6 col6\" >0.8474</td>\n",
              "      <td id=\"T_84e08_row6_col7\" class=\"data row6 col7\" >0.8520</td>\n",
              "      <td id=\"T_84e08_row6_col8\" class=\"data row6 col8\" >0.1140</td>\n",
              "    </tr>\n",
              "    <tr>\n",
              "      <th id=\"T_84e08_level0_row7\" class=\"row_heading level0 row7\" >lr</th>\n",
              "      <td id=\"T_84e08_row7_col0\" class=\"data row7 col0\" >Logistic Regression</td>\n",
              "      <td id=\"T_84e08_row7_col1\" class=\"data row7 col1\" >0.9271</td>\n",
              "      <td id=\"T_84e08_row7_col2\" class=\"data row7 col2\" >0.9783</td>\n",
              "      <td id=\"T_84e08_row7_col3\" class=\"data row7 col3\" >0.9186</td>\n",
              "      <td id=\"T_84e08_row7_col4\" class=\"data row7 col4\" >0.8961</td>\n",
              "      <td id=\"T_84e08_row7_col5\" class=\"data row7 col5\" >0.9056</td>\n",
              "      <td id=\"T_84e08_row7_col6\" class=\"data row7 col6\" >0.8462</td>\n",
              "      <td id=\"T_84e08_row7_col7\" class=\"data row7 col7\" >0.8487</td>\n",
              "      <td id=\"T_84e08_row7_col8\" class=\"data row7 col8\" >0.7350</td>\n",
              "    </tr>\n",
              "    <tr>\n",
              "      <th id=\"T_84e08_level0_row8\" class=\"row_heading level0 row8\" >ridge</th>\n",
              "      <td id=\"T_84e08_row8_col0\" class=\"data row8 col0\" >Ridge Classifier</td>\n",
              "      <td id=\"T_84e08_row8_col1\" class=\"data row8 col1\" >0.8919</td>\n",
              "      <td id=\"T_84e08_row8_col2\" class=\"data row8 col2\" >0.9120</td>\n",
              "      <td id=\"T_84e08_row8_col3\" class=\"data row8 col3\" >0.9431</td>\n",
              "      <td id=\"T_84e08_row8_col4\" class=\"data row8 col4\" >0.8176</td>\n",
              "      <td id=\"T_84e08_row8_col5\" class=\"data row8 col5\" >0.8725</td>\n",
              "      <td id=\"T_84e08_row8_col6\" class=\"data row8 col6\" >0.7804</td>\n",
              "      <td id=\"T_84e08_row8_col7\" class=\"data row8 col7\" >0.7909</td>\n",
              "      <td id=\"T_84e08_row8_col8\" class=\"data row8 col8\" >0.0470</td>\n",
              "    </tr>\n",
              "    <tr>\n",
              "      <th id=\"T_84e08_level0_row9\" class=\"row_heading level0 row9\" >lda</th>\n",
              "      <td id=\"T_84e08_row9_col0\" class=\"data row9 col0\" >Linear Discriminant Analysis</td>\n",
              "      <td id=\"T_84e08_row9_col1\" class=\"data row9 col1\" >0.8898</td>\n",
              "      <td id=\"T_84e08_row9_col2\" class=\"data row9 col2\" >0.9211</td>\n",
              "      <td id=\"T_84e08_row9_col3\" class=\"data row9 col3\" >0.9490</td>\n",
              "      <td id=\"T_84e08_row9_col4\" class=\"data row9 col4\" >0.8065</td>\n",
              "      <td id=\"T_84e08_row9_col5\" class=\"data row9 col5\" >0.8703</td>\n",
              "      <td id=\"T_84e08_row9_col6\" class=\"data row9 col6\" >0.7762</td>\n",
              "      <td id=\"T_84e08_row9_col7\" class=\"data row9 col7\" >0.7862</td>\n",
              "      <td id=\"T_84e08_row9_col8\" class=\"data row9 col8\" >0.0550</td>\n",
              "    </tr>\n",
              "    <tr>\n",
              "      <th id=\"T_84e08_level0_row10\" class=\"row_heading level0 row10\" >knn</th>\n",
              "      <td id=\"T_84e08_row10_col0\" class=\"data row10 col0\" >K Neighbors Classifier</td>\n",
              "      <td id=\"T_84e08_row10_col1\" class=\"data row10 col1\" >0.7909</td>\n",
              "      <td id=\"T_84e08_row10_col2\" class=\"data row10 col2\" >0.8872</td>\n",
              "      <td id=\"T_84e08_row10_col3\" class=\"data row10 col3\" >0.7788</td>\n",
              "      <td id=\"T_84e08_row10_col4\" class=\"data row10 col4\" >0.7156</td>\n",
              "      <td id=\"T_84e08_row10_col5\" class=\"data row10 col5\" >0.7405</td>\n",
              "      <td id=\"T_84e08_row10_col6\" class=\"data row10 col6\" >0.5671</td>\n",
              "      <td id=\"T_84e08_row10_col7\" class=\"data row10 col7\" >0.5749</td>\n",
              "      <td id=\"T_84e08_row10_col8\" class=\"data row10 col8\" >0.0500</td>\n",
              "    </tr>\n",
              "    <tr>\n",
              "      <th id=\"T_84e08_level0_row11\" class=\"row_heading level0 row11\" >svm</th>\n",
              "      <td id=\"T_84e08_row11_col0\" class=\"data row11 col0\" >SVM - Linear Kernel</td>\n",
              "      <td id=\"T_84e08_row11_col1\" class=\"data row11 col1\" >0.7490</td>\n",
              "      <td id=\"T_84e08_row11_col2\" class=\"data row11 col2\" >0.8304</td>\n",
              "      <td id=\"T_84e08_row11_col3\" class=\"data row11 col3\" >0.5598</td>\n",
              "      <td id=\"T_84e08_row11_col4\" class=\"data row11 col4\" >0.5938</td>\n",
              "      <td id=\"T_84e08_row11_col5\" class=\"data row11 col5\" >0.5645</td>\n",
              "      <td id=\"T_84e08_row11_col6\" class=\"data row11 col6\" >0.4283</td>\n",
              "      <td id=\"T_84e08_row11_col7\" class=\"data row11 col7\" >0.4385</td>\n",
              "      <td id=\"T_84e08_row11_col8\" class=\"data row11 col8\" >0.0470</td>\n",
              "    </tr>\n",
              "    <tr>\n",
              "      <th id=\"T_84e08_level0_row12\" class=\"row_heading level0 row12\" >dummy</th>\n",
              "      <td id=\"T_84e08_row12_col0\" class=\"data row12 col0\" >Dummy Classifier</td>\n",
              "      <td id=\"T_84e08_row12_col1\" class=\"data row12 col1\" >0.6146</td>\n",
              "      <td id=\"T_84e08_row12_col2\" class=\"data row12 col2\" >0.5000</td>\n",
              "      <td id=\"T_84e08_row12_col3\" class=\"data row12 col3\" >0.0000</td>\n",
              "      <td id=\"T_84e08_row12_col4\" class=\"data row12 col4\" >0.0000</td>\n",
              "      <td id=\"T_84e08_row12_col5\" class=\"data row12 col5\" >0.0000</td>\n",
              "      <td id=\"T_84e08_row12_col6\" class=\"data row12 col6\" >0.0000</td>\n",
              "      <td id=\"T_84e08_row12_col7\" class=\"data row12 col7\" >0.0000</td>\n",
              "      <td id=\"T_84e08_row12_col8\" class=\"data row12 col8\" >0.0420</td>\n",
              "    </tr>\n",
              "    <tr>\n",
              "      <th id=\"T_84e08_level0_row13\" class=\"row_heading level0 row13\" >qda</th>\n",
              "      <td id=\"T_84e08_row13_col0\" class=\"data row13 col0\" >Quadratic Discriminant Analysis</td>\n",
              "      <td id=\"T_84e08_row13_col1\" class=\"data row13 col1\" >0.6124</td>\n",
              "      <td id=\"T_84e08_row13_col2\" class=\"data row13 col2\" >0.7770</td>\n",
              "      <td id=\"T_84e08_row13_col3\" class=\"data row13 col3\" >0.0000</td>\n",
              "      <td id=\"T_84e08_row13_col4\" class=\"data row13 col4\" >0.0000</td>\n",
              "      <td id=\"T_84e08_row13_col5\" class=\"data row13 col5\" >0.0000</td>\n",
              "      <td id=\"T_84e08_row13_col6\" class=\"data row13 col6\" >-0.0044</td>\n",
              "      <td id=\"T_84e08_row13_col7\" class=\"data row13 col7\" >-0.0117</td>\n",
              "      <td id=\"T_84e08_row13_col8\" class=\"data row13 col8\" >0.0550</td>\n",
              "    </tr>\n",
              "    <tr>\n",
              "      <th id=\"T_84e08_level0_row14\" class=\"row_heading level0 row14\" >nb</th>\n",
              "      <td id=\"T_84e08_row14_col0\" class=\"data row14 col0\" >Naive Bayes</td>\n",
              "      <td id=\"T_84e08_row14_col1\" class=\"data row14 col1\" >0.5661</td>\n",
              "      <td id=\"T_84e08_row14_col2\" class=\"data row14 col2\" >0.7789</td>\n",
              "      <td id=\"T_84e08_row14_col3\" class=\"data row14 col3\" >0.9882</td>\n",
              "      <td id=\"T_84e08_row14_col4\" class=\"data row14 col4\" >0.4716</td>\n",
              "      <td id=\"T_84e08_row14_col5\" class=\"data row14 col5\" >0.6379</td>\n",
              "      <td id=\"T_84e08_row14_col6\" class=\"data row14 col6\" >0.2413</td>\n",
              "      <td id=\"T_84e08_row14_col7\" class=\"data row14 col7\" >0.3605</td>\n",
              "      <td id=\"T_84e08_row14_col8\" class=\"data row14 col8\" >0.0650</td>\n",
              "    </tr>\n",
              "  </tbody>\n",
              "</table>\n"
            ],
            "text/plain": [
              "<pandas.io.formats.style.Styler at 0x78281aeb6a10>"
            ]
          },
          "metadata": {},
          "output_type": "display_data"
        },
        {
          "data": {
            "application/vnd.jupyter.widget-view+json": {
              "model_id": "937148ce05a0494e91985ca6e1f30056",
              "version_major": 2,
              "version_minor": 0
            },
            "text/plain": [
              "Processing:   0%|          | 0/65 [00:00<?, ?it/s]"
            ]
          },
          "metadata": {
            "application/vnd.jupyter.widget-view+json": {
              "colab": {
                "custom_widget_manager": {
                  "url": "https://ssl.gstatic.com/colaboratory-static/widgets/colab-cdn-widget-manager/2b70e893a8ba7c0f/manager.min.js"
                }
              }
            }
          },
          "output_type": "display_data"
        },
        {
          "data": {
            "text/html": [],
            "text/plain": [
              "<IPython.core.display.HTML object>"
            ]
          },
          "metadata": {},
          "output_type": "display_data"
        }
      ],
      "source": [
        "best_model = compare_models()"
      ]
    },
    {
      "cell_type": "markdown",
      "metadata": {},
      "source": [
        "## Review shapes and keys of the training data\n",
        "\n"
      ]
    },
    {
      "cell_type": "code",
      "execution_count": null,
      "metadata": {
        "colab": {
          "base_uri": "https://localhost:8080/"
        },
        "id": "dEUVDZfR2XpK",
        "outputId": "64c40b3c-7c32-424e-9611-0e436815593d"
      },
      "outputs": [
        {
          "name": "stdout",
          "output_type": "stream",
          "text": [
            "Index(['PC1', 'PC2', 'PC3', 'PC4', 'PC5', 'PC6', 'PC7', 'PC8', 'PC9', 'PC10',\n",
            "       ...\n",
            "       'Complexity', 'Energy', 'Std', 'ZeroCrossings', 'DWT_A_Energy',\n",
            "       'DWT_A_Std', 'DWT_L1_Energy', 'DWT_L1_Std', 'DWT_L2_Std', 'DWT_L3_Std'],\n",
            "      dtype='object', length=172)\n"
          ]
        }
      ],
      "source": [
        "X_train = get_config('X_train')\n",
        "y_train = get_config('y_train')\n",
        "\n",
        "print(X_train.keys())\n",
        "print(X_train.shape)  \n",
        "print(y_train.shape)"
      ]
    },
    {
      "cell_type": "markdown",
      "metadata": {},
      "source": [
        "## Visualization of important graphs about the best model"
      ]
    },
    {
      "cell_type": "code",
      "execution_count": 20,
      "metadata": {
        "colab": {
          "base_uri": "https://localhost:8080/",
          "height": 36
        },
        "id": "KAvCu6Mb_kSL",
        "outputId": "cef16d33-02ee-4e1b-cd4b-f5484a2c684d"
      },
      "outputs": [
        {
          "data": {
            "text/html": [],
            "text/plain": [
              "<IPython.core.display.HTML object>"
            ]
          },
          "metadata": {},
          "output_type": "display_data"
        },
        {
          "data": {
            "text/html": [],
            "text/plain": [
              "<IPython.core.display.HTML object>"
            ]
          },
          "metadata": {},
          "output_type": "display_data"
        },
        {
          "data": {
            "text/html": [],
            "text/plain": [
              "<IPython.core.display.HTML object>"
            ]
          },
          "metadata": {},
          "output_type": "display_data"
        },
        {
          "data": {
            "text/html": [],
            "text/plain": [
              "<IPython.core.display.HTML object>"
            ]
          },
          "metadata": {},
          "output_type": "display_data"
        },
        {
          "data": {
            "text/html": [],
            "text/plain": [
              "<IPython.core.display.HTML object>"
            ]
          },
          "metadata": {},
          "output_type": "display_data"
        },
        {
          "data": {
            "application/vnd.google.colaboratory.intrinsic+json": {
              "type": "string"
            },
            "text/plain": [
              "'Class Report.png'"
            ]
          },
          "execution_count": 20,
          "metadata": {},
          "output_type": "execute_result"
        }
      ],
      "source": [
        "plot_model(best_model, plot='confusion_matrix', save=True)\n",
        "\n",
        "plot_model(best_model, plot='auc', save=True)\n",
        "\n",
        "plot_model(best_model, plot='learning', save=True)\n",
        "\n",
        "plot_model(best_model, plot='feature', save=True)\n",
        "\n",
        "plot_model(best_model, plot='class_report', save=True)"
      ]
    },
    {
      "cell_type": "markdown",
      "metadata": {},
      "source": [
        "## Save the best model"
      ]
    },
    {
      "cell_type": "code",
      "execution_count": 21,
      "metadata": {
        "colab": {
          "base_uri": "https://localhost:8080/"
        },
        "id": "5JrAoXzUC3rP",
        "outputId": "52da3460-bdd3-4487-e9ea-1b7840841b01"
      },
      "outputs": [
        {
          "data": {
            "text/plain": [
              "['Ada-Boost-Classifier.joblib']"
            ]
          },
          "execution_count": 21,
          "metadata": {},
          "output_type": "execute_result"
        }
      ],
      "source": [
        "\n",
        "import joblib\n",
        "\n",
        "joblib.dump(best_model, \"Ada-Boost-Classifier.joblib\")"
      ]
    }
  ],
  "metadata": {
    "accelerator": "GPU",
    "colab": {
      "gpuType": "T4",
      "provenance": []
    },
    "kernelspec": {
      "display_name": "Python 3",
      "name": "python3"
    },
    "language_info": {
      "codemirror_mode": {
        "name": "ipython",
        "version": 3
      },
      "file_extension": ".py",
      "mimetype": "text/x-python",
      "name": "python",
      "nbconvert_exporter": "python",
      "pygments_lexer": "ipython3",
      "version": "3.12.5"
    },
    "widgets": {
      "application/vnd.jupyter.widget-state+json": {
        "0ad7d21bc1c440228967513221a59eaa": {
          "model_module": "@jupyter-widgets/base",
          "model_module_version": "1.2.0",
          "model_name": "LayoutModel",
          "state": {
            "_model_module": "@jupyter-widgets/base",
            "_model_module_version": "1.2.0",
            "_model_name": "LayoutModel",
            "_view_count": null,
            "_view_module": "@jupyter-widgets/base",
            "_view_module_version": "1.2.0",
            "_view_name": "LayoutView",
            "align_content": null,
            "align_items": null,
            "align_self": null,
            "border": null,
            "bottom": null,
            "display": null,
            "flex": null,
            "flex_flow": null,
            "grid_area": null,
            "grid_auto_columns": null,
            "grid_auto_flow": null,
            "grid_auto_rows": null,
            "grid_column": null,
            "grid_gap": null,
            "grid_row": null,
            "grid_template_areas": null,
            "grid_template_columns": null,
            "grid_template_rows": null,
            "height": null,
            "justify_content": null,
            "justify_items": null,
            "left": null,
            "margin": null,
            "max_height": null,
            "max_width": null,
            "min_height": null,
            "min_width": null,
            "object_fit": null,
            "object_position": null,
            "order": null,
            "overflow": null,
            "overflow_x": null,
            "overflow_y": null,
            "padding": null,
            "right": null,
            "top": null,
            "visibility": null,
            "width": null
          }
        },
        "371665bb5cb04caeb15cdc0ab8f8a6e4": {
          "model_module": "@jupyter-widgets/controls",
          "model_module_version": "1.5.0",
          "model_name": "DescriptionStyleModel",
          "state": {
            "_model_module": "@jupyter-widgets/controls",
            "_model_module_version": "1.5.0",
            "_model_name": "DescriptionStyleModel",
            "_view_count": null,
            "_view_module": "@jupyter-widgets/base",
            "_view_module_version": "1.2.0",
            "_view_name": "StyleView",
            "description_width": ""
          }
        },
        "60c70bfacf8b4da7b839d778aaef5a0e": {
          "model_module": "@jupyter-widgets/controls",
          "model_module_version": "1.5.0",
          "model_name": "DescriptionStyleModel",
          "state": {
            "_model_module": "@jupyter-widgets/controls",
            "_model_module_version": "1.5.0",
            "_model_name": "DescriptionStyleModel",
            "_view_count": null,
            "_view_module": "@jupyter-widgets/base",
            "_view_module_version": "1.2.0",
            "_view_name": "StyleView",
            "description_width": ""
          }
        },
        "6f896a30f3c74f55a6af15eee4d20770": {
          "model_module": "@jupyter-widgets/base",
          "model_module_version": "1.2.0",
          "model_name": "LayoutModel",
          "state": {
            "_model_module": "@jupyter-widgets/base",
            "_model_module_version": "1.2.0",
            "_model_name": "LayoutModel",
            "_view_count": null,
            "_view_module": "@jupyter-widgets/base",
            "_view_module_version": "1.2.0",
            "_view_name": "LayoutView",
            "align_content": null,
            "align_items": null,
            "align_self": null,
            "border": null,
            "bottom": null,
            "display": null,
            "flex": null,
            "flex_flow": null,
            "grid_area": null,
            "grid_auto_columns": null,
            "grid_auto_flow": null,
            "grid_auto_rows": null,
            "grid_column": null,
            "grid_gap": null,
            "grid_row": null,
            "grid_template_areas": null,
            "grid_template_columns": null,
            "grid_template_rows": null,
            "height": null,
            "justify_content": null,
            "justify_items": null,
            "left": null,
            "margin": null,
            "max_height": null,
            "max_width": null,
            "min_height": null,
            "min_width": null,
            "object_fit": null,
            "object_position": null,
            "order": null,
            "overflow": null,
            "overflow_x": null,
            "overflow_y": null,
            "padding": null,
            "right": null,
            "top": null,
            "visibility": null,
            "width": null
          }
        },
        "937148ce05a0494e91985ca6e1f30056": {
          "model_module": "@jupyter-widgets/controls",
          "model_module_version": "1.5.0",
          "model_name": "HBoxModel",
          "state": {
            "_dom_classes": [],
            "_model_module": "@jupyter-widgets/controls",
            "_model_module_version": "1.5.0",
            "_model_name": "HBoxModel",
            "_view_count": null,
            "_view_module": "@jupyter-widgets/controls",
            "_view_module_version": "1.5.0",
            "_view_name": "HBoxView",
            "box_style": "",
            "children": [
              "IPY_MODEL_f6a54722c91b456fb2c48f49ad9efbc6",
              "IPY_MODEL_b01974192e2f4700935c06aa236dfb21",
              "IPY_MODEL_bb408eb29e97464a992595785c2f9227"
            ],
            "layout": "IPY_MODEL_dca507e8e70549bfa2f98975bc404697"
          }
        },
        "b01974192e2f4700935c06aa236dfb21": {
          "model_module": "@jupyter-widgets/controls",
          "model_module_version": "1.5.0",
          "model_name": "FloatProgressModel",
          "state": {
            "_dom_classes": [],
            "_model_module": "@jupyter-widgets/controls",
            "_model_module_version": "1.5.0",
            "_model_name": "FloatProgressModel",
            "_view_count": null,
            "_view_module": "@jupyter-widgets/controls",
            "_view_module_version": "1.5.0",
            "_view_name": "ProgressView",
            "bar_style": "",
            "description": "",
            "description_tooltip": null,
            "layout": "IPY_MODEL_caade62aea7843ea84c8e5b90be70964",
            "max": 65,
            "min": 0,
            "orientation": "horizontal",
            "style": "IPY_MODEL_ce1f455717d9409587aac3c98e3282b5",
            "value": 65
          }
        },
        "bb408eb29e97464a992595785c2f9227": {
          "model_module": "@jupyter-widgets/controls",
          "model_module_version": "1.5.0",
          "model_name": "HTMLModel",
          "state": {
            "_dom_classes": [],
            "_model_module": "@jupyter-widgets/controls",
            "_model_module_version": "1.5.0",
            "_model_name": "HTMLModel",
            "_view_count": null,
            "_view_module": "@jupyter-widgets/controls",
            "_view_module_version": "1.5.0",
            "_view_name": "HTMLView",
            "description": "",
            "description_tooltip": null,
            "layout": "IPY_MODEL_6f896a30f3c74f55a6af15eee4d20770",
            "placeholder": "​",
            "style": "IPY_MODEL_60c70bfacf8b4da7b839d778aaef5a0e",
            "value": " 65/65 [01:05&lt;00:00,  1.15it/s]"
          }
        },
        "caade62aea7843ea84c8e5b90be70964": {
          "model_module": "@jupyter-widgets/base",
          "model_module_version": "1.2.0",
          "model_name": "LayoutModel",
          "state": {
            "_model_module": "@jupyter-widgets/base",
            "_model_module_version": "1.2.0",
            "_model_name": "LayoutModel",
            "_view_count": null,
            "_view_module": "@jupyter-widgets/base",
            "_view_module_version": "1.2.0",
            "_view_name": "LayoutView",
            "align_content": null,
            "align_items": null,
            "align_self": null,
            "border": null,
            "bottom": null,
            "display": null,
            "flex": null,
            "flex_flow": null,
            "grid_area": null,
            "grid_auto_columns": null,
            "grid_auto_flow": null,
            "grid_auto_rows": null,
            "grid_column": null,
            "grid_gap": null,
            "grid_row": null,
            "grid_template_areas": null,
            "grid_template_columns": null,
            "grid_template_rows": null,
            "height": null,
            "justify_content": null,
            "justify_items": null,
            "left": null,
            "margin": null,
            "max_height": null,
            "max_width": null,
            "min_height": null,
            "min_width": null,
            "object_fit": null,
            "object_position": null,
            "order": null,
            "overflow": null,
            "overflow_x": null,
            "overflow_y": null,
            "padding": null,
            "right": null,
            "top": null,
            "visibility": null,
            "width": null
          }
        },
        "ce1f455717d9409587aac3c98e3282b5": {
          "model_module": "@jupyter-widgets/controls",
          "model_module_version": "1.5.0",
          "model_name": "ProgressStyleModel",
          "state": {
            "_model_module": "@jupyter-widgets/controls",
            "_model_module_version": "1.5.0",
            "_model_name": "ProgressStyleModel",
            "_view_count": null,
            "_view_module": "@jupyter-widgets/base",
            "_view_module_version": "1.2.0",
            "_view_name": "StyleView",
            "bar_color": null,
            "description_width": ""
          }
        },
        "dca507e8e70549bfa2f98975bc404697": {
          "model_module": "@jupyter-widgets/base",
          "model_module_version": "1.2.0",
          "model_name": "LayoutModel",
          "state": {
            "_model_module": "@jupyter-widgets/base",
            "_model_module_version": "1.2.0",
            "_model_name": "LayoutModel",
            "_view_count": null,
            "_view_module": "@jupyter-widgets/base",
            "_view_module_version": "1.2.0",
            "_view_name": "LayoutView",
            "align_content": null,
            "align_items": null,
            "align_self": null,
            "border": null,
            "bottom": null,
            "display": null,
            "flex": null,
            "flex_flow": null,
            "grid_area": null,
            "grid_auto_columns": null,
            "grid_auto_flow": null,
            "grid_auto_rows": null,
            "grid_column": null,
            "grid_gap": null,
            "grid_row": null,
            "grid_template_areas": null,
            "grid_template_columns": null,
            "grid_template_rows": null,
            "height": null,
            "justify_content": null,
            "justify_items": null,
            "left": null,
            "margin": null,
            "max_height": null,
            "max_width": null,
            "min_height": null,
            "min_width": null,
            "object_fit": null,
            "object_position": null,
            "order": null,
            "overflow": null,
            "overflow_x": null,
            "overflow_y": null,
            "padding": null,
            "right": null,
            "top": null,
            "visibility": "hidden",
            "width": null
          }
        },
        "f6a54722c91b456fb2c48f49ad9efbc6": {
          "model_module": "@jupyter-widgets/controls",
          "model_module_version": "1.5.0",
          "model_name": "HTMLModel",
          "state": {
            "_dom_classes": [],
            "_model_module": "@jupyter-widgets/controls",
            "_model_module_version": "1.5.0",
            "_model_name": "HTMLModel",
            "_view_count": null,
            "_view_module": "@jupyter-widgets/controls",
            "_view_module_version": "1.5.0",
            "_view_name": "HTMLView",
            "description": "",
            "description_tooltip": null,
            "layout": "IPY_MODEL_0ad7d21bc1c440228967513221a59eaa",
            "placeholder": "​",
            "style": "IPY_MODEL_371665bb5cb04caeb15cdc0ab8f8a6e4",
            "value": "Processing: 100%"
          }
        }
      }
    }
  },
  "nbformat": 4,
  "nbformat_minor": 0
}
